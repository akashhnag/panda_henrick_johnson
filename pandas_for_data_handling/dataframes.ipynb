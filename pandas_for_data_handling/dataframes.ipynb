{
 "cells": [
  {
   "cell_type": "code",
   "execution_count": 11,
   "metadata": {},
   "outputs": [
    {
     "name": "stdout",
     "output_type": "stream",
     "text": [
      "   Mercedes  Ford  Tata  Renault\n",
      "0         2     3     9       12\n",
      "1         4     0     3        1\n",
      "2         0     0     4        0\n",
      "3         4     1     1        0\n",
      "4         0     6     0        3\n",
      "5         3    12     0        1\n"
     ]
    }
   ],
   "source": [
    "import pandas as pd\n",
    "\n",
    "cardata={'Mercedes':[2,4,0,4,0,3], 'Ford': [3,0,0,1,6,12], 'Tata':[9,3,4,1,0,0],\n",
    "'Renault':[12,1,0,0,3,1]}\n",
    "\n",
    "carsales=pd.DataFrame(cardata)\n",
    "\n",
    "print(carsales)"
   ]
  },
  {
   "cell_type": "code",
   "execution_count": null,
   "metadata": {},
   "outputs": [],
   "source": [
    "carsales.index.rename('Sales place')\n",
    "print(carsales)"
   ]
  },
  {
   "cell_type": "code",
   "execution_count": 13,
   "metadata": {},
   "outputs": [
    {
     "name": "stdout",
     "output_type": "stream",
     "text": [
      "       Mercedes  Ford  Tata  Renault\n",
      "One           2     3     9       12\n",
      "Two           4     0     3        1\n",
      "Three         0     0     4        0\n",
      "Four          4     1     1        0\n",
      "Five          0     6     0        3\n",
      "Six           3    12     0        1\n"
     ]
    }
   ],
   "source": [
    "carsales.rename(index={0:'One',1:'Two',2:'Three',3:'Four',4:'Five',5:'Six'}, inplace=True)\n",
    "print(carsales)"
   ]
  },
  {
   "cell_type": "code",
   "execution_count": null,
   "metadata": {},
   "outputs": [],
   "source": [
    "print(carsales.loc['Two'])"
   ]
  },
  {
   "cell_type": "code",
   "execution_count": null,
   "metadata": {},
   "outputs": [],
   "source": [
    "# adding a new row to existing 'carsales' df\n",
    "newsalesplace=pd.DataFrame({\n",
    "    'Mercedes':3,\n",
    "    'Ford':5,\n",
    "    'Tata':1,\n",
    "    'Renault':1\n",
    "},index=['Seven'])\n",
    "\n",
    "carsales=pd.concat([carsales,newsalesplace])\n",
    "\n",
    "print(carsales)"
   ]
  },
  {
   "cell_type": "code",
   "execution_count": null,
   "metadata": {},
   "outputs": [],
   "source": [
    "# Adding new columns to the df using python list\n",
    "\n",
    "Volvo=[1,2,0,0,0,11,12]\n",
    "Tesla=[2,6,2,3,0,4,7]\n",
    "carsales['Volvo']=Volvo\n",
    "print(carsales)"
   ]
  },
  {
   "cell_type": "code",
   "execution_count": null,
   "metadata": {},
   "outputs": [],
   "source": [
    "# Insert a new column and place it in a particular position\n",
    "carsales.insert(loc=0, column='Tesla', value=Tesla)\n",
    "print(carsales)"
   ]
  },
  {
   "cell_type": "code",
   "execution_count": null,
   "metadata": {},
   "outputs": [],
   "source": [
    "# create a dataframe from a python list\n",
    "Ford=[3,0,0,1,6,12,5]\n",
    "data=[Volvo,Tesla,Ford]\n",
    "\n",
    "print(data)\n",
    "\n",
    "carsales2=pd.DataFrame(list(zip(Volvo,Tesla,Ford)), columns=['Volvo','Tesla','Ford'])\n",
    "\n",
    "print(carsales2)"
   ]
  },
  {
   "cell_type": "code",
   "execution_count": null,
   "metadata": {},
   "outputs": [],
   "source": [
    "carsales.to_csv('carsales.csv')\n",
    "carsales.to_excel('carsales.xlsx')\n",
    "\n",
    "#Not working"
   ]
  },
  {
   "cell_type": "code",
   "execution_count": null,
   "metadata": {},
   "outputs": [
    {
     "ename": "NameError",
     "evalue": "name 'carsales2' is not defined",
     "output_type": "error",
     "traceback": [
      "\u001b[0;31m---------------------------------------------------------------------------\u001b[0m",
      "\u001b[0;31mNameError\u001b[0m                                 Traceback (most recent call last)",
      "Cell \u001b[0;32mIn[26], line 1\u001b[0m\n\u001b[0;32m----> 1\u001b[0m \u001b[38;5;28;01mdel\u001b[39;00m(\u001b[43mcarsales2\u001b[49m)\n\u001b[1;32m      2\u001b[0m \u001b[38;5;28mprint\u001b[39m(carsales2)\n",
      "\u001b[0;31mNameError\u001b[0m: name 'carsales2' is not defined"
     ]
    }
   ],
   "source": [
    "del(carsales2) # to delete a particular dataframe\n",
    "print(carsales2)"
   ]
  }
 ],
 "metadata": {
  "kernelspec": {
   "display_name": "myenv",
   "language": "python",
   "name": "python3"
  },
  "language_info": {
   "codemirror_mode": {
    "name": "ipython",
    "version": 3
   },
   "file_extension": ".py",
   "mimetype": "text/x-python",
   "name": "python",
   "nbconvert_exporter": "python",
   "pygments_lexer": "ipython3",
   "version": "3.12.3"
  }
 },
 "nbformat": 4,
 "nbformat_minor": 2
}
